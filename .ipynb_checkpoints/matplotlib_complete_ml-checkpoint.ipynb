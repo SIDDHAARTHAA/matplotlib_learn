{
 "cells": [
  {
   "cell_type": "markdown",
   "id": "79bb9305",
   "metadata": {},
   "source": [
    "\n",
    "# Complete Matplotlib Guide for Machine Learning\n",
    "\n",
    "This notebook covers **all essential Matplotlib topics** needed for machine learning, with detailed explanations for each API.\n",
    "\n",
    "## Table of Contents\n",
    "1. Introduction & Setup\n",
    "2. Basic Plotting (`plot`, `show`)\n",
    "3. Labels, Titles, Legends\n",
    "4. Line Styles, Markers, Colors\n",
    "5. Figure and Axes (`figure`, `subplots`)\n",
    "6. Multiple Plots\n",
    "7. Scatter Plots\n",
    "8. Bar Charts\n",
    "9. Histograms\n",
    "10. Pie Charts\n",
    "11. Stacked Bar Charts\n",
    "12. Ticks & Grid\n",
    "13. Axis Limits & Scaling\n",
    "14. Annotations & Text\n",
    "15. Saving Figures\n",
    "16. Styles & Themes\n",
    "17. 3D Plotting\n",
    "18. Integration with NumPy & Pandas\n",
    "19. ML-specific Plots\n"
   ]
  },
  {
   "cell_type": "code",
   "execution_count": null,
   "id": "f6a2adfa",
   "metadata": {},
   "outputs": [],
   "source": [
    "\n",
    "# 1. Introduction & Setup\n",
    "import matplotlib.pyplot as plt\n",
    "import numpy as np\n",
    "import pandas as pd\n",
    "\n",
    "# Inline plotting for Jupyter\n",
    "%matplotlib inline\n",
    "\n",
    "print('Matplotlib version:', plt.__version__)\n"
   ]
  },
  {
   "cell_type": "markdown",
   "id": "83701fc4",
   "metadata": {},
   "source": [
    "\n",
    "## 2. Basic Plotting\n",
    "`plt.plot()` draws a line or marker-based plot.\n",
    "\n",
    "**Syntax:**\n",
    "```python\n",
    "plt.plot(x, y, format_string, **kwargs)\n",
    "```\n",
    "- **x**: Horizontal axis values\n",
    "- **y**: Vertical axis values\n",
    "- **format_string**: Optional, line style, color, and marker in one string\n",
    "- **kwargs**: Keyword arguments for customization\n"
   ]
  },
  {
   "cell_type": "code",
   "execution_count": null,
   "id": "fa2fcea0",
   "metadata": {},
   "outputs": [],
   "source": [
    "\n",
    "x = np.linspace(0, 10, 100)\n",
    "y = np.sin(x)\n",
    "\n",
    "plt.plot(x, y, label='Sine Wave')\n",
    "plt.show()\n"
   ]
  }
 ],
 "metadata": {},
 "nbformat": 4,
 "nbformat_minor": 5
}
