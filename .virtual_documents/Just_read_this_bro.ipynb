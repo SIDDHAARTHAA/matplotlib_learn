






!pip install matplotlib







import matplotlib.pyplot as plt
import numpy as np

# Optional: set default style
plt.style.use('default')  












x = np.linspace(0, 10, 100)
y = np.sin(x)

plt.plot(x, y, color='blue', linestyle='-', marker='', label='sin(x)')
plt.title("Basic Line Plot")
plt.xlabel("X-axis")
plt.ylabel("Y-axis")
plt.legend()
plt.show()







np.random.seed(0)
x = np.random.rand(50)
y = np.random.rand(50)
colors = np.random.rand(50)
sizes = 1000 * np.random.rand(50)

plt.scatter(x, y, c=colors, s=sizes, alpha=0.5, cmap='viridis')
plt.colorbar(label="Color scale")
plt.title("Scatter Plot Example")
plt.show()






categories = ['A', 'B', 'C', 'D']
values = [3, 7, 5, 4]
colors = np.random.rand(len(values), 3)
#len(values)x3 random values ( ranging from 0-1 )
plt.bar(categories, values, color=colors)
plt.title("Bar Plot")
plt.xlabel("Category")
plt.ylabel("Value")
plt.show()









data = np.random.randn(10000)
plt.hist(data, bins=50, color='green', edgecolor='black', alpha=0.7)
plt.title("Histogram Example")
plt.xlabel("Value")
plt.ylabel("Frequency")
plt.show()







sizes = [15, 30, 45, 10]
labels = ['A', 'B', 'C', 'D']
colors = ['gold', 'lightcoral', 'lightskyblue', 'lightgreen']

plt.pie(sizes, labels=labels, colors=colors, autopct='%1.1f%%', shadow=False, startangle=90)
plt.axis('equal')  
plt.title("Pie Chart Example")
plt.show()









# Create 160 evenly spaced points from 0 to 20
x = np.linspace(0, 20, 160)

# y1 is sine of x, y2 is cosine of x
y1 = np.sin(x)
y2 = np.cos(x)

# Create a figure with 2 rows and 1 column of subplots
# figsize=(6, 6) means the entire figure will be 6 inches wide and 6 inches tall
fig, axs = plt.subplots(2, 1, figsize=(6, 6))

# Plot sine function in red solid line on the first subplot
axs[0].plot(x, y1, 'r-')          # 'r-' means red color and solid line
axs[0].set_title('Sine Function') # Set title for first subplot

# Plot cosine function in blue solid line on the second subplot
axs[1].plot(x, y2, 'b-')          # 'b-' means blue color and solid line
axs[1].set_title('Cosine Function') # Set title for second subplot

# Adjust spacing between subplots to avoid overlapping titles/labels
plt.tight_layout()

# Display the entire figure (fig) with its two subplots (axs)
plt.show()










x = np.linspace(0, 2, 100)
y = x**2

plt.plot(x, y)
plt.title("Saving Plot Example")
plt.savefig("saved_plot.png", dpi=300, bbox_inches='tight')
plt.show()




