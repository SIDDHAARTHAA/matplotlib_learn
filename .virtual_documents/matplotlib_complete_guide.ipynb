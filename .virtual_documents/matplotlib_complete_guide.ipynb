






!pip install matplotlib







import matplotlib.pyplot as plt
import numpy as np

# Optional: set default style
plt.style.use('default')  












x = np.linspace(0, 10, 100)
y = np.sin(x)

plt.plot(x, y, color='blue', linestyle='-', marker='', label='sin(x)')
plt.title("Basic Line Plot")
plt.xlabel("X-axis")
plt.ylabel("Y-axis")
plt.legend()
plt.show()







np.random.seed(0)
x = np.random.rand(50)
y = np.random.rand(50)
colors = np.random.rand(50)
sizes = 1000 * np.random.rand(50)

plt.scatter(x, y, c=colors, s=sizes, alpha=0.5, cmap='viridis')
plt.colorbar(label="Color scale")
plt.title("Scatter Plot Example")
plt.show()







categories = ['A', 'B', 'C', 'D']
values = [3, 7, 5, 4]

plt.bar(categories, values, color='orange')
plt.title("Bar Plot")
plt.xlabel("Category")
plt.ylabel("Value")
plt.show()







data = np.random.randn(1000)

plt.hist(data, bins=30, color='green', edgecolor='black', alpha=0.7)
plt.title("Histogram Example")
plt.xlabel("Value")
plt.ylabel("Frequency")
plt.show()







sizes = [15, 30, 45, 10]
labels = ['A', 'B', 'C', 'D']
colors = ['gold', 'lightcoral', 'lightskyblue', 'lightgreen']

plt.pie(sizes, labels=labels, colors=colors, autopct='%1.1f%%', shadow=True, startangle=140)
plt.axis('equal')  
plt.title("Pie Chart Example")
plt.show()







x = np.linspace(0, 5, 100)
y1 = np.sin(x)
y2 = np.cos(x)

fig, axs = plt.subplots(2, 1, figsize=(6, 6))

axs[0].plot(x, y1, 'r-')
axs[0].set_title('Sine Function')

axs[1].plot(x, y2, 'b-')
axs[1].set_title('Cosine Function')

plt.tight_layout()
plt.show()










x = np.linspace(0, 2, 100)
y = x**2

plt.plot(x, y)
plt.title("Saving Plot Example")
plt.savefig("saved_plot.png", dpi=300, bbox_inches='tight')
plt.show()




