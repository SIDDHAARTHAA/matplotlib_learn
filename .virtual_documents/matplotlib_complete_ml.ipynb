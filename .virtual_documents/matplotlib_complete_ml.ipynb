



# 1. Introduction & Setup
import matplotlib.pyplot as plt
import numpy as np
import pandas as pd

# Inline plotting for Jupyter
%matplotlib inline

print('Matplotlib version:', plt.__version__)







x = np.linspace(0, 10, 100)
y = np.sin(x)

plt.plot(x, y, label='Sine Wave')
plt.show()

